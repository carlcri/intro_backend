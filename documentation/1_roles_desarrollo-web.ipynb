{
 "cells": [
  {
   "attachments": {},
   "cell_type": "markdown",
   "metadata": {},
   "source": [
    "## Los roles del desarrollo backend\n",
    "\n",
    "Tu rol principal como Backend Developer va ser escribir código que tengan que ver con:\n",
    "\n",
    "- Reglas de negocio\n",
    "- Validación\n",
    "- Autorización de usuarios\n",
    "- Conexiones a bases de datos\n",
    "- Código que correra del lado del servidor.\n",
    "\n",
    "El Backend developer también puede estár acercado a otro tipo de roles como:\n",
    "\n",
    "- DB ADMIN: Gestiona una base de datos, sus políticas y como vamos a disponer de esa DB a través del código y la seguridad que estas deberian tener.\n",
    "\n",
    "- SERVER ADMIN: Se encarga de gestionar la seguridad en los servidores que es donde corre el código a disposición.\n"
   ]
  },
  {
   "attachments": {},
   "cell_type": "markdown",
   "metadata": {},
   "source": [
    "## Frontend, Backend y Full Stack\n",
    "\n",
    "Distinguiremos las areas de Frontend de Backend\n",
    "\n",
    "![](https://i.imgur.com/4UYPfSq.png)\n",
    "\n",
    "¿Que se entiende por clientes?\n",
    "\n",
    "- Navegadores WEB. Pueden hacer solicitudes, en el cual el backend envia html, datos y renderizan la informacion\n",
    "\n",
    "- Una Aplicacion Movil. \n",
    "\n",
    "- IOT(Internet of things): nevera, lavadora \n",
    "\n",
    "### Navegadores WEB\n",
    "\n",
    "Soportan tres tecnologias en especifico\n",
    "\n",
    "- HTML: Markdown que al final se traduce a HTML\n",
    "- CSS(cascadas de estilo)\n",
    "- JS y sus frameworks. \n",
    "\n",
    "![](https://i.imgur.com/OXpvxjT.png)\n",
    "\n",
    "### Aplicaciones Moviles\n",
    "\n",
    "Encontramos algunos ecosistemas bastante maduros\n",
    "\n",
    "![](https://i.imgur.com/mhjBbWF.png)"
   ]
  },
  {
   "attachments": {},
   "cell_type": "markdown",
   "metadata": {},
   "source": [
    "### Lenguajes para BACKEND\n",
    "\n",
    "Y sus respectivos Frameworks\n",
    "\n",
    "![](https://i.imgur.com/3zknbUl.png)"
   ]
  },
  {
   "attachments": {},
   "cell_type": "markdown",
   "metadata": {},
   "source": [
    "### Acerca del Fullstack\n",
    "\n",
    "Este rol es una combinacion de los dos. Ingenieros tipo T: donde tienes una especialidad pero no significa puedas conocer de otras areas. \n",
    "\n",
    "![](https://i.imgur.com/wqY8Hvy.png)\n",
    "\n",
    "Un buen *bakckend* sabe algo de FrontEnd, y un buen FrontEnd sabe algo de Backend\n"
   ]
  },
  {
   "attachments": {},
   "cell_type": "markdown",
   "metadata": {},
   "source": [
    "### ¿Y como se conecta la parte del cliente con el Backend?\n",
    "\n",
    "Se hace a travez de las APIs(Aplication Program Interface)"
   ]
  }
 ],
 "metadata": {
  "language_info": {
   "name": "python"
  },
  "orig_nbformat": 4
 },
 "nbformat": 4,
 "nbformat_minor": 2
}

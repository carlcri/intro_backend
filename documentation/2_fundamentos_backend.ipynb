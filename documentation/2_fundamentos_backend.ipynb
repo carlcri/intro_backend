{
 "cells": [
  {
   "attachments": {},
   "cell_type": "markdown",
   "metadata": {},
   "source": [
    "# Fundamentos del Backend\n",
    "\n",
    "## ¿Cómo se construye el backend?\n",
    "\n",
    "![](https://i.imgur.com/gF5r1ku.png)"
   ]
  },
  {
   "attachments": {},
   "cell_type": "markdown",
   "metadata": {},
   "source": [
    "\n",
    "\n",
    "- Tenemos por ejemplo nuestros comensales o clientes que se conectan a traves de navegadores: Chrome, Firefox, Edge, y empìezan a navegar en distintas paginas. Tambien se pueden conectar aplicaciones, o IoT.\n",
    "\n",
    "- ¿Como los comensales piden la informacion? a traves de un menu o carta. Para nosotros vendrian siendo los famosos **endpoints**. "
   ]
  },
  {
   "attachments": {},
   "cell_type": "markdown",
   "metadata": {},
   "source": [
    "## ¿Cómo escoger lenguajes y frameworks para backend?\n",
    "\n",
    "Frameworks son herramientas que nos ayuda a ir más ágil y desarrollar nuestro proyecto en el dia a dia. entre ellos tenemos para Python:\n",
    "\n",
    "- Django\n",
    "- Flask\n",
    "- FastAPI\n",
    "\n",
    "## HTTP\n",
    "\n",
    "Y como este protocolo nos ayuda para explorar y exponer servicios WEB y como el Backend Interactua.\n",
    "\n",
    "Suponga tenemos esta url, que la podemos dividir en tres partes\n",
    "\n",
    "    https://platzi.com/cursos\n",
    "\n",
    "- Protocolo: la **s** en http significa *security*, es decir un certificado de seguridad a esa peticion. \n",
    "\n",
    "- Dominio: platzi.com o el que sea\n",
    "- Path o Ruta, y si estamos en un servico WEB, se le conoce como *endpoint*. Esto sera importante, de como hacer una buena arquitectura de un servicio WEB.\n",
    "\n",
    "### Ciclo de Peticion y Respuesta\n",
    "\n",
    "![](https://i.imgur.com/8wqOKPq.png)\n",
    "\n"
   ]
  },
  {
   "attachments": {},
   "cell_type": "markdown",
   "metadata": {},
   "source": [
    "- EN un primer momento el navegador hace un peticion al DNS para obtener la IP donde esta alojado *Platzi.com*\n",
    "\n",
    "- Una vez resuelto lo anterior. EL servidor procesa la peticion, si por ejemplo era la ruta de */cursos*, para obtener el listado de todos los cursos. \n",
    "\n",
    "- Luego enviamos un *response*, a esa peticion. Dicha response puede venir en diferentes formatos, como son: archivos de Frontend como HTML, CSS y JS y los devolvemos para renderizar una pagina. Pero tambien no solo respondemos con un render, sino con datos puros, y XML y JSON son unos formatos en los cuales se empaquetan la informacion. \n",
    "\n"
   ]
  },
  {
   "attachments": {},
   "cell_type": "markdown",
   "metadata": {},
   "source": [
    "### Codigos de Estado en HTTP\n",
    "\n",
    "Muy importantes para que el navegador sepa que paso con us peticion \n",
    "\n",
    "![](https://i.imgur.com/oaINWjt.jpg)\n",
    "\n",
    "1XX INFO\n",
    "\n",
    "- 102: Processing\n",
    "\n",
    "2XX Sucess\n",
    "\n",
    "- 200: OK\n",
    "- 201: Created: \n",
    "- 204: NO content\n",
    "\n",
    "3XX Redirect\n",
    "\n",
    "Ocurre cuando movemos recursos, por ejemplo nuestro endpoint era antes /cursos, y ahora lo transformamos todo a ingles y quedaris /courses, y aun asi habra usuarios que iran al endpoint anterior\n",
    "\n",
    "- 301: Moved\n",
    "- 307: Temporary\n",
    "- 308: Permanent\n",
    "\n",
    "4XX Client Error: generalmente ocurre porque el cliente envio la informacion de manera erronea\n",
    "\n",
    "- 401: Unauthorized\n",
    "- 404: not found\n",
    "- 409: Conflict\n",
    "\n",
    "5XX Server Error, ocurre del lado del codigo que se ejecuta en el lado del servidor\n",
    "\n",
    "- 500: internal\n",
    "- 502: Bad gateway\n",
    "- 504: Gateway Timeout: una demora y no se le pudo responder al cliente\n",
    "\n",
    "#### Codigos HTTP con gatitos\n",
    "\n",
    "https://http.cat/"
   ]
  }
 ],
 "metadata": {
  "language_info": {
   "name": "python"
  },
  "orig_nbformat": 4
 },
 "nbformat": 4,
 "nbformat_minor": 2
}

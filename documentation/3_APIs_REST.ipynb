{
 "cells": [
  {
   "attachments": {},
   "cell_type": "markdown",
   "metadata": {},
   "source": [
    "# APIs REST"
   ]
  },
  {
   "attachments": {},
   "cell_type": "markdown",
   "metadata": {},
   "source": [
    "## ¿Qué son las APIs?\n",
    "\n",
    "![](https://i.imgur.com/u6oMzwS.jpg)\n",
    "\n",
    "Aplication Program Interface. Nos permiten mediante codigo comunicarnos con otra parte del sistema. Por ejemplo, si queremos hacer renderizado de mapas en nuestras aplicaciones, utilizariamos la API de Google Maps.\n",
    "\n",
    "Sin embargo, como Backend Developers nos interesan las APIs que se exponen como un servicio Web, es decir la que corren con el protocolo HTTP.\n",
    "\n",
    "### ¿Como Funionan?\n",
    "\n",
    "La API expone algo conocido como los ENDPOINTS, muy similar a una carta de menu de un restaurante con todos los platos que se pueden consumir.\n",
    "\n",
    "Pero en vez de consumir deliciosos platillos consumiremos ENDPOINTs\n",
    "\n",
    "![](https://i.imgur.com/Y5ccLtm.png)"
   ]
  },
  {
   "attachments": {},
   "cell_type": "markdown",
   "metadata": {},
   "source": [
    "Y posteriormente una respuesta, que necesitamos empaquetarla y retornarla, y podemos tener diferentes tipos de empaquetado, como por ejemplo un formato JSON(el mas comun), XML un HTML, un archivo."
   ]
  },
  {
   "attachments": {},
   "cell_type": "markdown",
   "metadata": {},
   "source": [
    "## Estructura REST API\n",
    "\n",
    "Es un estandar que se utiliza para desarrollar APIs que funcionan con el protocolo HTTP. EL Framework que elijas ya tiene esta implementacion. \n",
    "\n",
    "### Como se le piden resursos a la API\n",
    "\n",
    "Mediante los endpoints exponemos \n",
    "\n",
    "![](https://i.imgur.com/J1U3oYr.png)\n",
    "\n",
    "REST API en su mayoria lo que hace es devolver datos en formato JSON para que los consuma una aplicacion Movil, y esta ultima haria el render.\n",
    "\n",
    "El Standar REST API funciona mediante algo llamado CRUD:\n",
    "\n",
    "- Create\n",
    "- Read\n",
    "- Update\n",
    "- Delete\n",
    "\n",
    "Por ejemplo, si tenemos una entidad llamada *usuario* pues debemos poderlo, crear, actualizar, etc\n",
    "\n",
    "![](https://i.imgur.com/QS49fE6.png)"
   ]
  },
  {
   "attachments": {},
   "cell_type": "markdown",
   "metadata": {},
   "source": [
    "En el metodo HTTP tenemos algunos metodos para llevar esto a cabo. POr ejemplo, si necesitamos hacer un CREATE lo mas seguro es que usemos el **POST**\n",
    "\n",
    "Si queremos hacer una lectura, usamos el metodo **GET**, es decir, le decimos a al API que queremos obtener informacion.\n",
    "\n",
    "PUT: enviamos todos los datos de la entidad para actualizar por ejemplo un usuario. Mientras que con el protocolo o metodo **PATCH** solo envio los datos que se estan actualizando..\n",
    "\n",
    "### Poniendo en practica lo aprendido\n",
    "\n",
    "#### Ejemplo 1\n",
    "\n",
    "![](https://i.imgur.com/yaI4rCu.png)"
   ]
  },
  {
   "attachments": {},
   "cell_type": "markdown",
   "metadata": {},
   "source": [
    "Tomemos por ejemplo la entidad de los usuarios, Y obtener todo el listado de usuarios vamos al enpoint, en este caso /users. Como el objeto de este metodo es obtener la informacion, el protocolo va a ser GET. EN body no habria nada, pues no necesitamos enviar ninguna informacion. \n",
    "\n",
    "Una vez enviemos ese Request, el backend nos va a contestar en formato JAson. La respuesta segun el protocolo http, seria un 200, \n",
    "\n",
    "#### Ejemplo 2\n",
    "\n",
    "![](https://i.imgur.com/lwhoHh2.png)\n",
    "\n",
    "Este sera un endpoint parecido, pero solo para obtener un solo usuario. Con el mismo metodo\n",
    "\n",
    "#### Ejemplo 3\n",
    "\n",
    "![](https://i.imgur.com/8R66Bc8.png)\n",
    "\n",
    "COmo aqui se trata de crear, el metodo cambia a POST. Y hay es donde el backend tiene que hacer la logica si le enviaron un request por el metodo POST o por el metodo GET, y asi saber que tiene que hacer. \n",
    "\n",
    "Ahora si toca enviar datos, y esos van en el body. \n",
    "\n",
    "La respueste igualmente tendra un body por ejemplo un JSON con los datos creados. Y sera un codigo 201 de creado. \n",
    "\n",
    "#### Ejemplo 4 y 5\n",
    "\n",
    "PUT or PATCH dependiendo si vamos a enviar todos los datos o solo los que se quieren actualizar. Igualmente respondera con un 201\n",
    "\n",
    "![](https://i.imgur.com/HinApRL.png)\n"
   ]
  },
  {
   "attachments": {},
   "cell_type": "markdown",
   "metadata": {},
   "source": [
    "Felicitaciones, acabamos de aprender el standart de REST API. A continuacion practicaremos lo aprendido"
   ]
  },
  {
   "attachments": {},
   "cell_type": "markdown",
   "metadata": {},
   "source": [
    "## Insomnia y Postman\n",
    "\n",
    "Exploraremos la arquitectura de una API en vivo: https://fakeapi.platzi.com/\n",
    "\n",
    "Descargaremos un software especializado en hacer peticiones hacia APIs\n",
    "\n",
    "### Insomnia\n",
    "\n",
    "Como es linux, descarga un .dev. Y para instalarlo primero, voy al directorio de descargas, y: \n",
    "\n",
    "    sudo dpkg -i Insomnia.Core-2023.1.0.deb \n",
    "\n",
    "Y parece ya lo instalo. Lo abro.\n",
    "\n",
    "#### Practica\n",
    "\n",
    "Realizar una peticion a la API para obtener todas las categorias. En la API obtengo el endpoint\n",
    "\n",
    "![](https://i.imgur.com/eiQjzRj.png)\n",
    "\n",
    "Y en insomnia:\n",
    "\n",
    "![](https://i.imgur.com/uWrnUxb.png)\n",
    "\n",
    "\n"
   ]
  },
  {
   "attachments": {},
   "cell_type": "markdown",
   "metadata": {},
   "source": [
    "AL realizar la peticion:\n",
    "\n",
    "![](https://i.imgur.com/Oh4pg8e.png)"
   ]
  },
  {
   "attachments": {},
   "cell_type": "markdown",
   "metadata": {},
   "source": [
    "### Ejemplo 2\n",
    "\n",
    "Realizar una nueva peticion para obtener solo una categoria, por ejemplo la 4\n",
    "\n",
    "Vamos a la API para saber como hacerlo:\n",
    "\n",
    "![](https://i.imgur.com/IYsGSRX.png)\n",
    "\n",
    "Se debe añadir el id de la categoria al final.\n",
    "\n",
    "    [GET] https://api.escuelajs.co/api/v1/categories/4\n",
    "    \n",
    "Y efectivamente:\n",
    "\n",
    "    {\n",
    "        \"id\": 4,\n",
    "        \"name\": \"Shoes\",\n",
    "        \"image\": \"https://api.lorem.space/image/shoes?w=640&h=480&r=6273\",\n",
    "        \"creationAt\": \"2023-03-29T07:16:01.000Z\",\n",
    "        \"updatedAt\": \"2023-03-29T07:16:01.000Z\"\n",
    "    }\n",
    "\n",
    "#### Ejemplo 3\n",
    "\n",
    "Realizar una peticion de una categoria que no existe:\n",
    "\n",
    "    [GET] https://api.escuelajs.co/api/v1/categories/4000\n",
    "\n",
    "![](https://i.imgur.com/85U3iW0.png)\n",
    "\n",
    "Como ves me respondio con status code de 400, pero al profe le respondio con un 404"
   ]
  },
  {
   "attachments": {},
   "cell_type": "markdown",
   "metadata": {},
   "source": [
    "### Ejemplo 4\n",
    "\n",
    "Creando una nueva categoria. Miremos que dice la documentacion de la API\n",
    "\n",
    "![](https://i.imgur.com/SnkLFE9.png)"
   ]
  },
  {
   "attachments": {},
   "cell_type": "markdown",
   "metadata": {},
   "source": [
    "Tal y como esperabamos, toca hacer un POST.\n",
    "\n",
    "![](https://i.imgur.com/mJbU7Tq.png)"
   ]
  },
  {
   "attachments": {},
   "cell_type": "markdown",
   "metadata": {},
   "source": [
    "- En la peticion, enviamos un formato JSON, y el response tiene un codigo de 201 de creado, y me asigno un ID automaticamente.\n",
    "\n",
    "Intenta hacer un GET One para evidenciar se realizo la creacion con exito. \n",
    "\n",
    "Algo importante que tambien hace el backend es asegurar la integridad de la informacion, por ejemplo si una categoria debe tener un nombre y una imagen. Por ejemplo, realizar una peticion de POST donde falte alguno de estos campos:\n",
    "\n",
    "![](https://i.imgur.com/HNyAj8o.png)\n"
   ]
  },
  {
   "attachments": {},
   "cell_type": "markdown",
   "metadata": {},
   "source": [
    "#### Ejemplo 5\n",
    "\n",
    "Actualizemos una categoria:\n",
    "\n",
    "![](https://i.imgur.com/VYlPlky.png)"
   ]
  },
  {
   "attachments": {},
   "cell_type": "markdown",
   "metadata": {},
   "source": [
    "Supongamos actualizaremos la categoria 2:\n",
    "\n",
    "Sera con un PUT:\n",
    "\n",
    "    [PUT][https://api.escuelajs.co/api/v1/categories/2]\n",
    "\n",
    "![](https://i.imgur.com/aFjktj1.png)"
   ]
  },
  {
   "attachments": {},
   "cell_type": "markdown",
   "metadata": {},
   "source": [
    "Para borrar, por ejemplo la categoria 15:\n",
    "\n",
    "    [DELETE][https://api.escuelajs.co/api/v1/categories/15]\n"
   ]
  }
 ],
 "metadata": {
  "language_info": {
   "name": "python"
  },
  "orig_nbformat": 4
 },
 "nbformat": 4,
 "nbformat_minor": 2
}

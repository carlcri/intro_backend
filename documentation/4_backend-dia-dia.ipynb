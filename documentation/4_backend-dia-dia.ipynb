{
 "cells": [
  {
   "attachments": {},
   "cell_type": "markdown",
   "metadata": {},
   "source": [
    "# Backend en el dia a día"
   ]
  },
  {
   "attachments": {},
   "cell_type": "markdown",
   "metadata": {},
   "source": [
    "## La Nube\n",
    "\n",
    "Los mas representativos. \n",
    "\n",
    "![](https://i.imgur.com/d7Z4aSL.png)\n",
    "\n",
    "La nube es donde se alojan los servicios (código) para exponerlos, y que los clientes puedan hacer request (peticiones). Ofrecen servicios para distribuir y desplegar aplicaciones.\n",
    "\n",
    "La nube no está en el cielo, no es literalmente una nube, es la computadora de alguien más (tu proveedor). Tinen un CPU, una RAM y un SSD, como cualquier otra computadora.\n",
    "\n",
    "Los proveedores poseen granjas de servidores configurados (data centers) ubicadas en diferentes lugares del mundo.\n",
    "\n",
    "Mientras más cerca estés al data center que te conectes, experimentarás menor latencia, por lo que los recursos llegarán con mayor rapidez.\n",
    "\n",
    "Como parte de esa “nube”, según la que escojas, puedes tener tu sistema replicado en diferentes lugares, y elegir en dónde estarán tus sistemas corriendo, y optimizarlos para desplegar tu aplicación.\n",
    "\n",
    "https://platzi.com/escuela/escuela-devops-cloud/"
   ]
  },
  {
   "attachments": {},
   "cell_type": "markdown",
   "metadata": {},
   "source": [
    "## DEVOPS\n",
    "\n",
    "Unir la parte de desarrollo con la parte de operaciones, de tal forma que mi codigo llegue a la nube y pueda exponerse el servicio a miles de usuarios. \n",
    "\n",
    "EL escenario mas favorable es que si vamos atender muchos requeste de una zona geografica determinada, usar alguno de estos proveedores de la nube para configurar al Data Center mas cercano, y reducir la letencia.\n",
    "\n",
    "### ¿Como es que realmente podemos conectarnos a ese Data Center?\n",
    "\n",
    "Considera varios desarrolladores contribuyendo a un repositorio o servidor de repositorios. Donde habran varias ramas. \n",
    "\n",
    "![](https://i.imgur.com/Dsh9Ywj.png)\n",
    "\n",
    "Queremos por ejemplo asegurar la calidad del software con:\n",
    "\n",
    "- Pruebas\n",
    "- Calidad\n",
    "- Seguridad\n",
    "\n",
    "DOnde unas personas escriben cogigo, y otros ingenieros realizan las automatizaciones para realizar las pruebas. Y el ciclo se repite una y otra vez. \n",
    "\n",
    "Y es aca donde esto es toda una cultura de trabajo conocida como DEVOPS(Desarrollo y Operacion)\n",
    "\n",
    "![](https://i.imgur.com/2NIrMXl.png)\n"
   ]
  },
  {
   "attachments": {},
   "cell_type": "markdown",
   "metadata": {},
   "source": [
    "## El servidor\n",
    "\n",
    "Y como en este podemos implementar diferentes tipos de arquitecturas. Un servidor se compone de:\n",
    "\n",
    "- CPU\n",
    "- RAM\n",
    "- HD or SSD\n",
    "\n",
    "Y las arquitecturas:\n",
    "\n",
    "![](https://i.imgur.com/cSkiGFo.png)\n",
    "\n",
    "Seguramente ya hemos hecho uso de algunas tal vez sin darno cueta. Analizemos cada uno mas detalladamente:\n",
    "\n",
    "![](https://i.imgur.com/tItxQ6N.png)\n"
   ]
  },
  {
   "attachments": {},
   "cell_type": "markdown",
   "metadata": {},
   "source": [
    "- SaaS: tu no tienes control de nada. Google Drive, Sheets, One Drive\n",
    "- PaaS: Auui gestionas las aplicaciones y los datos, es muy comun. Porque como backends nos interesa que corra la aplicacion y su almacenamiento. Ex. Heroku\n",
    "- IaaS: la parte de virtualizacion y servidores la sigue manejando el proveedor. AWS, Digital Ocean\n"
   ]
  },
  {
   "attachments": {},
   "cell_type": "markdown",
   "metadata": {},
   "source": [
    "## Cookies y Secciones\n",
    "\n",
    "Como podemos utilizar esta tecnologia para almacenar informacion sobre los usuarios y luego reconocerles para brindarles mejores experiencias. \n",
    "\n",
    "### Cookies\n",
    "\n",
    "En las cookies podemos almacenar informacion en los navegadores:\n",
    "\n",
    "- Pais desde el cual se conecta\n",
    "- Idioma de preferencia\n",
    "- mantener una seccion, cuando guarda informacion del login, y despues recordar usuario y contraseña.\n",
    "\n",
    "Esta tecnologia funciona de navegador a servidor. Cuando el cliente o naveagador se conecta al servidor. Y desde el lado del servidor se reconoce se conecto un usuario, y se genera una cookie(con las medidas de seguridad respectivas y desde el lado del servidor). Y devolverla al cliente.  \n",
    "\n",
    "![](https://i.imgur.com/TTQdyTV.png)\n",
    "\n",
    "Luego, que la cookie esta del lado del cliente, y ya almacenada pues una vez el usuario vuelve a conectarse. El servidor reconocera esa cookie, y podria retornarle una response mas adecuada y personalizada\n",
    "\n",
    "![](https://i.imgur.com/yCLYVJK.png)\n",
    "\n"
   ]
  },
  {
   "attachments": {},
   "cell_type": "markdown",
   "metadata": {},
   "source": [
    "Pero hay un problema con las cookies. Esta tecnologia solo funciona entre un navegador y un servidor. Pero no esta pensada para aplicaciones moviles y servidores. ❌\n",
    "\n",
    "Entonces usamos otra tencologia. Llamada JWT(Jeisson Web Tockens) que funciona tanto en moviles como en navegadores. Es posible en mi carrera me encuetre con esta tecnologia "
   ]
  },
  {
   "attachments": {},
   "cell_type": "markdown",
   "metadata": {},
   "source": [
    "## Bases de datos\n",
    "\n",
    "Al servidor le llegan diferente tipos de request, donde tendremos:\n",
    "\n",
    "![](https://i.imgur.com/NwiNWcI.png)\n",
    "\n",
    "Dentro de ese servidor, tenemos tambien:\n",
    "\n",
    "- los servicios de backend\n",
    "- los servicios de BD corriendo en el mismo servidor\n",
    "\n",
    "Por ejemplo, en el mismo servidor podrias tener varios servicios de backend de una API basada en Django, y otra en Laravel corriendo tambien en el mismo servidor. Las API consumen por lo general CPU y RAM\n",
    "\n",
    "y el HD,CPU y RAM para las bases de datos(persistencia de la informacion)\n",
    "\n",
    "Y como se conectan estos dos:\n",
    "\n",
    "![](https://i.imgur.com/0ZIQ8BH.png)\n",
    "\n",
    "A travez de los drivers. Por ejemplo, POSTGRES tiene sus drivers para python, para RUby, para C# etc. \n",
    "\n",
    "### Tipos de bases de datos\n",
    "\n",
    "![](https://i.imgur.com/dOgdd7C.png)"
   ]
  },
  {
   "attachments": {},
   "cell_type": "markdown",
   "metadata": {},
   "source": [
    "Las BD RELACIONALES comparten SQL como lenguaje en comun. Cosa que no pasa con las NoSQL. Por eso los Frameworks aprovechen esta carateristica para los **ORMs**\n",
    "\n",
    "ORMS: Objet Relational Mapping. Es una forma de abstraer la conexion a estas BD utilizando la POO, para hacer peticiones a las BD siendo un enfoque **agnostico**\n",
    "\n",
    "Esto quiere decir que si nosotros confiamos en el ORM de ese Framework, es muy facil hacer un switch de BD. Sin importar que manejador de BD estamos usando el ORM se encargara de hacer la traducion para llevarla a la BD en particular. \n",
    "\n",
    "### Volviendo a los Drivers\n",
    "\n",
    "![](https://i.imgur.com/E4v8kBR.png)\n",
    "\n",
    "Generalmente como Backend Developer no vas a encargarte de estas tares, esto lo hace un rol especializado como un *DB ADMIN*.\n",
    "\n",
    "SIn embargo el rol de administrar las BD es tan critico que muchas veces podremos encontrar arquitecturas como estas: \n",
    "\n",
    "- El servidor solo para servicios de Backend(APIs) y te concectas a otro servicio o proveedor que se encargue de gestionar las BDs. \n",
    "\n",
    "![](https://i.imgur.com/x1N252o.png)\n",
    "\n",
    "Veamos el caso de Heroku(PaaS) y parte de esta PaaS es *La DATA*\n",
    "\n",
    "![](https://i.imgur.com/8EC8Xpp.png)"
   ]
  },
  {
   "attachments": {},
   "cell_type": "markdown",
   "metadata": {},
   "source": [
    "El mismo ejercicio lo podemos hacer con Digital Ocean, MOngo Atlas para MongoDB, CouchBase"
   ]
  }
 ],
 "metadata": {
  "language_info": {
   "name": "python"
  },
  "orig_nbformat": 4
 },
 "nbformat": 4,
 "nbformat_minor": 2
}

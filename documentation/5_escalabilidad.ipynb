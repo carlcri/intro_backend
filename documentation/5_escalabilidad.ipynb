{
 "cells": [
  {
   "attachments": {},
   "cell_type": "markdown",
   "metadata": {},
   "source": [
    "# Escalabilidad en el backend"
   ]
  },
  {
   "attachments": {},
   "cell_type": "markdown",
   "metadata": {},
   "source": [
    "## ¿Qué es el escalamiento?\n",
    "\n",
    "### Escalamiento vertical.\n",
    "\n",
    "![](https://i.imgur.com/SNnfqIP.png)\n",
    "\n",
    "Es cuando tenemos un servidor y eventualmente el servidor empieza a colapsar, una forma de solucionar el problema es incrementar:\n",
    "\n",
    "- CPU\n",
    "- RAM\n",
    "- Disk\n",
    "\n",
    "Problemas:\n",
    "\n",
    "*Costos*\n",
    "\n",
    "En un black friday tu puedes escalar la aplicacion, pero algunos provedores no permiten desescalar.\n",
    "\n",
    "### Escalamiento horizontal\n",
    "\n",
    "Soluciona el problema de la disponibilidad. Se tienen varias instancias del mismo servidor.\n",
    "Como se tienen distintos servidores ahora se necesita de un:\n",
    "\n",
    "LOAD BALANCER - Balcnaceador de carga\n",
    "\n",
    "![](https://i.imgur.com/D3u2vZf.png)\n",
    "\n",
    "LOAD BALANCER: Tiene conocimiento de nuestras instancias/servidores (al conjunto de servidores se denomina Clouster).\n",
    "\n",
    "Si un nodo(instancia) se cae, el load balancer se encarga de desviarla. Distribuye las peticiones.\n",
    "\n",
    "El Escalamiento Horizontal es mas complejo de configurar. \n",
    "\n",
    "#### Problema\n",
    "\n",
    "Si tenemos la base de datos local en cada servidor va haber un problema dado que no se tienen sincronizados los datos de las distintas bases de datos de los servidores. **SOLUCION** Gestionar la base de datos fuera de estos servidores(BDaS). Quizas como un servidor aparte que sirva como DB.\n",
    "\n",
    "Si estas gestionando la BD como servicio con cualquiera de los proveedores mencionados, no tendras que preocuparte. Sin embargo si la estas gestionando dentro de esos servidores. Y tendrias que hacer algo que se llama **replicacaion**\n",
    "\n"
   ]
  },
  {
   "attachments": {},
   "cell_type": "markdown",
   "metadata": {},
   "source": [
    "## ¿Qué es la replicación?\n",
    "\n",
    "Partiendo del escalamiento horizontal, tal y como lo vimos anteriormente los datos no estaban sincronizados entre si. Y entonces?\n",
    "\n",
    "Una solucion podria ser aislar la BD en un servidor en particular. Pero hay un probelma, a pesar de tener replicacion horizontal en los servicios de backend, volvemos al mismo punto, que es la BD. Y una forma sencilla de solucionarlo seria hacer escalamiento vertical solo sobre el servidsor que contiene la BD.\n",
    "\n",
    "![](https://i.imgur.com/zTqttH5.png)\n"
   ]
  },
  {
   "attachments": {},
   "cell_type": "markdown",
   "metadata": {},
   "source": [
    "Pero a medida que aumenta la complejidad del sistema, podriamos nuevamente aplicar el escalameinto horizontal en la BD en pèrse. E instalar un Load Balancer para que maneje las peticiones desde el *backend* hacia la BD. \n",
    "\n",
    "![](https://i.imgur.com/X6SgQkw.png)\n",
    "\n",
    "Y volvemos al problema de la seccion anterior. COmo lo vamos a solucionar?\n",
    "\n",
    "### Sincronizacion de las BDs\n",
    "\n",
    "Cada vez que haya por ejemplo una escritura a una cualquiera de la tres instancias de la BD, hay un proceso de sincronizacion entre las mismas, conocido como replicacion. \n",
    "\n",
    "![](https://i.imgur.com/UmuTRJG.png)\n",
    "\n",
    "COmo Backend no nos encargaremos en estos asuntos, a menos que quieras ser adminstrador de bases de datos. Por lo general se delega esto a un tercero o proveedor. "
   ]
  },
  {
   "attachments": {},
   "cell_type": "markdown",
   "metadata": {},
   "source": [
    "## Que es el CACHE\n",
    "\n",
    "A procedimientos que ya se habian realizado los guardamos en memoria para que en futuras consultas haya menos latencia.\n",
    "\n",
    "![](https://i.imgur.com/nEHdY68.png)"
   ]
  },
  {
   "attachments": {},
   "cell_type": "markdown",
   "metadata": {},
   "source": [
    "Si por ejemplo hay una nueva solicitud hacia el endpoint de cursos en platzi. Antes de empezar a resolver esa peticion preguntamos \"esa peticion esta en cache\"? \n",
    "\n",
    "Cada una de estas peticiones que se guardan en cache tienen un tiempo de expiracion, no pueden estar ahi para siempre. \n",
    "\n",
    "Esta logica estara implementada en nuestro servidor.\n",
    "\n",
    "![](https://i.imgur.com/Nsv61G6.png)"
   ]
  },
  {
   "attachments": {},
   "cell_type": "markdown",
   "metadata": {},
   "source": [
    "### Donde Implementarlo\n",
    "\n",
    "- eCommerce \n",
    "- Sitios de NOticias\n",
    "- Blogs\n",
    "\n",
    "Bien implementado el sistema de CACHE puede servir para minimizar los efectos de un ataque de DDOS\n",
    "\n",
    "https://www.cloudflare.com/learning/ddos/memcached-ddos-attack/\n",
    "\n"
   ]
  },
  {
   "attachments": {},
   "cell_type": "markdown",
   "metadata": {},
   "source": [
    "## Colas de Tareas\n",
    "\n",
    "Como y en que escenario implementarlos. Hay cierto tipo de  tareas como reportes, backups, graficos, zips, PDFs, CSVs que demandan muchos recursos \n",
    "\n",
    "SI hacemos una peticion de estas tares, primero ningun usuario va a aguantarse 10 minutos a que se le entregue, y segundo se estan usando recursos que podrian usarse para responder otras peticiones a otros usuarios. \n",
    "\n",
    "### Como evitar esto \n",
    "\n",
    "Consideremos que Un request se ejecuta lo más pronto posible y responde por el mismo medio. COn una cola de tareas:\n",
    "\n",
    "\"Una cola de tareas eventualmente ejecuta un proceso y puede responder por otros medios\". SIgnifica que eventualmente, no lo respondera de forma instantanea, se tomara un pequeño tiempo, y segundo lo hara por otros medios.\n",
    "\n",
    "Por ejemplo en FB, hay una opcion en la cual puedes sacar un BCKUP de toda tu informacion, si le das opcion, te respondera que tardara un tiempo mientras realiza el proceso. Y una vez que responden, lo haces es por otro medio: un mail para este caso. \n",
    "\n",
    "Entonces se le da una response al usuario, no con lo que pidio, sino que se va a realizar y eventualmente le llegara su correo con la peticion original. 😀\n",
    "\n",
    "#### Encolar una tarea\n",
    "\n",
    "COmo quine va y hace una fila en un banco: \n",
    "\n",
    "![](https://i.imgur.com/nwpnay9.png)\n",
    "\n",
    "Atiendo en el orden que van llegado, y no todas a la vez. \"Encolamos las tareas\" dicen los ingenieros. \n",
    "\n",
    "#### Como entran las colas al sistema\n",
    "\n",
    "Podriamos tener un servidor enfocado a ese tipo de tareas, y las va almacenando en el orden que van llegando. Mira el rol que cumple el load balancer en todo este proceso\n",
    "\n",
    "![](https://i.imgur.com/D1Q8sNa.png)\n"
   ]
  },
  {
   "attachments": {},
   "cell_type": "markdown",
   "metadata": {},
   "source": [
    "## Server SIde Rendering\n",
    "\n",
    "Partamos de que tenemos nuestros servicios de backend que recuerda, pueden retornar diferentes tipos de archivos:\n",
    "\n",
    "![](https://i.imgur.com/4a2bema.png)\n",
    "\n",
    "Por ejemplo, cuando hizimos la consulta la Fake Api de Platzi, esta retorno un JSON, y los Clientes consumen esta data, y lo renderizan en sus equipos o navegadores. \n",
    "\n",
    "Recuerda tambien podemos retornar HTML, el servidor renderiza el HTML y no espera que el cliente lo haga: *Server SIde Rendering*\n",
    "\n",
    "![](https://i.imgur.com/l8lsWwV.png)\n",
    "\n",
    "Y le ahorramos trabajo al navegador. QUe no es iteractivo significa, por ejemplo que en Twitter das me gusta, e inmediatamente sube el contador de los corazoncitos.\n",
    "\n",
    "Por eso los sitios que hacen renderizado desde el servidor, no son iteractivos, precismente porque por cada render, les toca volvera a recargar toda la pagina. \n",
    "\n",
    "### ALgo ha cambiado\n",
    "\n",
    "Muchas veces se prefiere se haga el renderizado desde el cliente, y ya no se consumen los datos html puro, sino JSON.\n",
    "\n",
    "![](https://i.imgur.com/lQMeQRi.png)"
   ]
  },
  {
   "attachments": {},
   "cell_type": "markdown",
   "metadata": {},
   "source": [
    "Frameworks de Frontend como:\n",
    "\n",
    "- Angular \n",
    "- VueJS\n",
    "- React\n",
    "\n",
    "Nos ayudan a realizar el renderizado del lado del cliente\n",
    "\n",
    "### Se podria tener los mejor de los opciones.\n",
    "\n",
    "Hay una nueva generacion que hacen renderizado desde el lado del servidor, y luego de forma dinamica, como estan pensados para FrontEnd, empiezan a ser bastante interactivos. \n",
    "\n",
    "![](https://i.imgur.com/zSNTAAX.png)\n",
    "\n",
    "Como Backend developer seguramente tendras que soportar equipos de FronteEnd que quieren llevar esto al servidor, \n",
    "\n",
    "Podriamos tener una arquitectura como esta:\n",
    "\n",
    "![](https://i.imgur.com/cnGW4vU.png)"
   ]
  },
  {
   "attachments": {},
   "cell_type": "markdown",
   "metadata": {},
   "source": [
    "EN esta arquitectura tenemos un servidor adicional dedicado al renderizado, estos servidores generalmente funionan con JS(node JS). \n",
    "\n",
    "Muchas veces para hacer este renderizado desde el lado del servidor se recurre tambien a proveedores externos como: \n",
    "\n",
    "- Vercel\n",
    "- Netfly\n",
    "\n",
    "#### Caso de la vida real\n",
    "\n",
    "Muy importante usar el server side, en mi caso lo he usado al crear una plataforma donde se requiere mostrar muchos datos. Por ejemplo el codigo de barras para una empresa fabricante de Jeans son muchísimos códigos que maneja. En mi caso cree una vista en la base de datos para unir las consultas y así mostrarla al administrador del sistema.\n",
    "\n",
    "Use php y javascript para hacer el renderizado desde el lado del cliente ."
   ]
  }
 ],
 "metadata": {
  "language_info": {
   "name": "python"
  },
  "orig_nbformat": 4
 },
 "nbformat": 4,
 "nbformat_minor": 2
}
